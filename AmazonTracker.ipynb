{
 "cells": [
  {
   "cell_type": "markdown",
   "id": "867c706f",
   "metadata": {},
   "source": [
    "### Step 1: Function to get Product details from ONE Amazon Search Results Page"
   ]
  },
  {
   "cell_type": "code",
   "execution_count": 28,
   "id": "2447d173",
   "metadata": {},
   "outputs": [],
   "source": [
    "def getPandaDfForSearchResults(searchResultsPage):\n",
    "    import pandas as pd\n",
    "    from selenium import webdriver as wd\n",
    "    import chromedriver_binary\n",
    "    from bs4 import BeautifulSoup\n",
    "    \n",
    "    rows=[]\n",
    "    for result in searchResultsPage:\n",
    "        title = result.find(\"span\", {\"class\": \"a-text-normal\"})\n",
    "        sponsored = result.find(\"span\", {\"class\": \"a-color-base\"}, text=\"Sponsored\")\n",
    "        price = result.find(\"span\", {\"class\": \"a-price-whole\"})\n",
    "        url = result.find(\"a\", {\"class\": \"a-link-normal\"})\n",
    "        if price:\n",
    "            row= [title.text, bool(sponsored), price.text, \"https://amazon.in/\" + url['href']]\n",
    "            rows.append(row)\n",
    "    \n",
    "    df=pd.DataFrame.from_records(rows, columns=[\"Title\", \"Sponsored\", \"Price\", \"URL\"])\n",
    "    return df"
   ]
  },
  {
   "cell_type": "markdown",
   "id": "8ced5b66",
   "metadata": {},
   "source": [
    "### Step 2: Function to Generate a Pandas Dataframe from All Results Pages"
   ]
  },
  {
   "cell_type": "code",
   "execution_count": 36,
   "id": "68dc1405",
   "metadata": {},
   "outputs": [],
   "source": [
    "def getDFfromURL():\n",
    "    \n",
    "    import pandas as pd\n",
    "    from selenium import webdriver as wd\n",
    "    import chromedriver_binary\n",
    "    from bs4 import BeautifulSoup\n",
    "    \n",
    "    wd=wd.Chrome()\n",
    "    \n",
    "    url=\"https://www.amazon.in/s?k=prs+se+custom+24&crid=3LJ2MTZTGCQA3&sprefix=prs+se%2Caps%2C237&ref=nb_sb_ss_ts-doa-p_2_6\"\n",
    "    \n",
    "    \n",
    "    wd.get(url) #fetch the amazon search page\n",
    "    \n",
    "    nextPageCssClasses=[] \n",
    "    \n",
    "    try:\n",
    "        nextPageLink = wd.find_element_by_class_name(\"a-last\") #try to find next page button\n",
    "        \n",
    "    except:\n",
    "        pass\n",
    "\n",
    "\n",
    "    df_all_search_results = pd.DataFrame(columns=[\"Title\", \"Sponsored\", \"Price\",\"URL\"]) #initialize a dataframe\n",
    "\n",
    "    while not \"a-disabled\" in nextPageCssClasses:\n",
    "        soup = BeautifulSoup(wd.page_source)\n",
    "        searchResultsPage = soup.findAll(\"div\", {\"data-component-type\": \"s-search-result\"})\n",
    "        df = getPandaDfForSearchResults(searchResultsPage)\n",
    "        df_all_search_results = pd.concat([df_all_search_results, df])\n",
    "\n",
    "        # go to next page\n",
    "        try:\n",
    "            nextPageLink.click()\n",
    "            nextPageLink = wd.find_element_by_class_name(\"a-last\")\n",
    "            nextPageCssClasses = nextPageLink.get_attribute(\"class\").split()\n",
    "            time.sleep(2)\n",
    "        except:\n",
    "            nextPageCssClasses.append(\"a-disabled\")\n",
    "\n",
    "    if \"a-disabled\" in nextPageCssClasses:\n",
    "        print(\"Reached last page of search results\")\n",
    "\n",
    "    df_all_search_results['Price'] = df_all_search_results['Price'].str.replace(\",\",\"\")\n",
    "    df_all_search_results['Price'] = df_all_search_results['Price'].astype(float)\n",
    "    \n",
    "    return df_all_search_results"
   ]
  },
  {
   "cell_type": "markdown",
   "id": "4fe5e6ce",
   "metadata": {},
   "source": [
    "### Step 3: Function to Send Whatsapp Message (with Screenshot)"
   ]
  },
  {
   "cell_type": "code",
   "execution_count": 35,
   "id": "8f13bbe3",
   "metadata": {},
   "outputs": [],
   "source": [
    "def sendWhatsAppMessage(df):\n",
    "    import pywhatkit as kit\n",
    "    import os\n",
    "    try:\n",
    "        os.mkdir(\"images\")\n",
    "    except:   \n",
    "        pass\n",
    "    my_phone_number=\"+9198921XXXXX\"\n",
    "    from selenium import webdriver as wd\n",
    "    wd=wd.Chrome()\n",
    "    path=os.getcwd()\n",
    "    img_path=path+'\\\\images'\n",
    "    for index, guitarrow in df.iterrows():\n",
    "        print(guitarrow.URL)\n",
    "        wd.get(guitarrow.URL)\n",
    "        screenshotFilepath=img_path+\"\\\\\"+f\"screenshot_{index}.png\"\n",
    "        wd.save_screenshot(screenshotFilepath)\n",
    "        kit.sendwhats_image(my_phone_number, screenshotFilepath, guitarrow.URL, tab_close=True)"
   ]
  },
  {
   "cell_type": "markdown",
   "id": "9f803efc",
   "metadata": {},
   "source": [
    "### Step 4: Function to Execute the Whole Process"
   ]
  },
  {
   "cell_type": "code",
   "execution_count": 31,
   "id": "3d65ef28",
   "metadata": {},
   "outputs": [],
   "source": [
    "def start():\n",
    "    \n",
    "    while (True):\n",
    "    \n",
    "        df = getDFfromURL()\n",
    "\n",
    "        df_query = df[(df.Title.str.contains(\"Custom 24\")) & (df.Price <= 86000)]\n",
    "\n",
    "        if (not df_query.empty):\n",
    "            print(\"Found products that I want to buy\")\n",
    "            sendWhatsAppMessage(df_query)\n",
    "            print(df_query)\n",
    "            break\n",
    "\n",
    "        else:\n",
    "\n",
    "            time.sleep(60)\n",
    "            \n",
    "    return None"
   ]
  },
  {
   "cell_type": "markdown",
   "id": "60350e19",
   "metadata": {},
   "source": [
    "### Final Step: Run!"
   ]
  },
  {
   "cell_type": "code",
   "execution_count": 34,
   "id": "143d5510",
   "metadata": {},
   "outputs": [
    {
     "name": "stdout",
     "output_type": "stream",
     "text": [
      "Enter your Amazon search URL: https://www.amazon.in/s?k=prs+se+custom+24&crid=3LJ2MTZTGCQA3&sprefix=prs+se%2Caps%2C237&ref=nb_sb_ss_ts-doa-p_2_6\n",
      "Reached last page of search results\n",
      "Found products that I want to buy\n",
      "Enter your Whatsapp Phone Number: +919892139710\n",
      "https://amazon.in//PRS-Guitars-Electric-Guitar-Custom/dp/B08T7PYWDV/ref=sr_1_1?crid=3LJ2MTZTGCQA3&keywords=prs+se+custom+24&qid=1680467191&sprefix=prs+se%2Caps%2C237&sr=8-1\n",
      "                                               Title Sponsored    Price  \\\n",
      "0  PRS Guitars Electric Guitar, SE Custom 24, 202...     False  86000.0   \n",
      "\n",
      "                                                 URL  \n",
      "0  https://amazon.in//PRS-Guitars-Electric-Guitar...  \n"
     ]
    }
   ],
   "source": [
    "start()"
   ]
  },
  {
   "cell_type": "code",
   "execution_count": null,
   "id": "c2b19496",
   "metadata": {},
   "outputs": [],
   "source": []
  }
 ],
 "metadata": {
  "kernelspec": {
   "display_name": "Python 3 (ipykernel)",
   "language": "python",
   "name": "python3"
  },
  "language_info": {
   "codemirror_mode": {
    "name": "ipython",
    "version": 3
   },
   "file_extension": ".py",
   "mimetype": "text/x-python",
   "name": "python",
   "nbconvert_exporter": "python",
   "pygments_lexer": "ipython3",
   "version": "3.9.12"
  }
 },
 "nbformat": 4,
 "nbformat_minor": 5
}
